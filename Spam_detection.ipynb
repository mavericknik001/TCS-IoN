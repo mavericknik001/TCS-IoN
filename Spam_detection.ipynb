{
  "nbformat": 4,
  "nbformat_minor": 0,
  "metadata": {
    "colab": {
      "name": "Spam_detection",
      "provenance": [],
      "collapsed_sections": [],
      "mount_file_id": "1oLkNGZqTlqAfvwSon9YKu2AVJ0hpHIoZ",
      "authorship_tag": "ABX9TyNkbBJCjTbSnqbFVSQ49+KC",
      "include_colab_link": true
    },
    "kernelspec": {
      "name": "python3",
      "display_name": "Python 3"
    },
    "language_info": {
      "name": "python"
    }
  },
  "cells": [
    {
      "cell_type": "markdown",
      "metadata": {
        "id": "view-in-github",
        "colab_type": "text"
      },
      "source": [
        "<a href=\"https://colab.research.google.com/github/mavericknik001/TCS-IoN/blob/main/Spam_detection.ipynb\" target=\"_parent\"><img src=\"https://colab.research.google.com/assets/colab-badge.svg\" alt=\"Open In Colab\"/></a>"
      ]
    },
    {
      "cell_type": "code",
      "metadata": {
        "colab": {
          "base_uri": "https://localhost:8080/",
          "height": 221
        },
        "id": "RFC-MNWja9I8",
        "outputId": "0a39c10d-3711-4abf-b20f-7f44728d6a64"
      },
      "source": [
        "import pandas as  pd \n",
        "sms_spam = pd.read_csv('/content/drive/MyDrive/nik Datasets/SMSSpamCollection', sep='\\t',header=None, names=['Label', 'SMS'])\n",
        "print(sms_spam.shape)\n",
        "sms_spam.head()"
      ],
      "execution_count": 35,
      "outputs": [
        {
          "output_type": "stream",
          "name": "stdout",
          "text": [
            "(5572, 2)\n"
          ]
        },
        {
          "output_type": "execute_result",
          "data": {
            "text/html": [
              "<div>\n",
              "<style scoped>\n",
              "    .dataframe tbody tr th:only-of-type {\n",
              "        vertical-align: middle;\n",
              "    }\n",
              "\n",
              "    .dataframe tbody tr th {\n",
              "        vertical-align: top;\n",
              "    }\n",
              "\n",
              "    .dataframe thead th {\n",
              "        text-align: right;\n",
              "    }\n",
              "</style>\n",
              "<table border=\"1\" class=\"dataframe\">\n",
              "  <thead>\n",
              "    <tr style=\"text-align: right;\">\n",
              "      <th></th>\n",
              "      <th>Label</th>\n",
              "      <th>SMS</th>\n",
              "    </tr>\n",
              "  </thead>\n",
              "  <tbody>\n",
              "    <tr>\n",
              "      <th>0</th>\n",
              "      <td>ham</td>\n",
              "      <td>Go until jurong point, crazy.. Available only ...</td>\n",
              "    </tr>\n",
              "    <tr>\n",
              "      <th>1</th>\n",
              "      <td>ham</td>\n",
              "      <td>Ok lar... Joking wif u oni...</td>\n",
              "    </tr>\n",
              "    <tr>\n",
              "      <th>2</th>\n",
              "      <td>spam</td>\n",
              "      <td>Free entry in 2 a wkly comp to win FA Cup fina...</td>\n",
              "    </tr>\n",
              "    <tr>\n",
              "      <th>3</th>\n",
              "      <td>ham</td>\n",
              "      <td>U dun say so early hor... U c already then say...</td>\n",
              "    </tr>\n",
              "    <tr>\n",
              "      <th>4</th>\n",
              "      <td>ham</td>\n",
              "      <td>Nah I don't think he goes to usf, he lives aro...</td>\n",
              "    </tr>\n",
              "  </tbody>\n",
              "</table>\n",
              "</div>"
            ],
            "text/plain": [
              "  Label                                                SMS\n",
              "0   ham  Go until jurong point, crazy.. Available only ...\n",
              "1   ham                      Ok lar... Joking wif u oni...\n",
              "2  spam  Free entry in 2 a wkly comp to win FA Cup fina...\n",
              "3   ham  U dun say so early hor... U c already then say...\n",
              "4   ham  Nah I don't think he goes to usf, he lives aro..."
            ]
          },
          "metadata": {},
          "execution_count": 35
        }
      ]
    },
    {
      "cell_type": "code",
      "metadata": {
        "colab": {
          "base_uri": "https://localhost:8080/"
        },
        "id": "epWcLM6geqs6",
        "outputId": "f3650d67-a63f-4a21-bfc2-9f0b1e778a66"
      },
      "source": [
        "sms_spam['Label'].value_counts(normalize=True)"
      ],
      "execution_count": 36,
      "outputs": [
        {
          "output_type": "execute_result",
          "data": {
            "text/plain": [
              "ham     0.865937\n",
              "spam    0.134063\n",
              "Name: Label, dtype: float64"
            ]
          },
          "metadata": {},
          "execution_count": 36
        }
      ]
    },
    {
      "cell_type": "code",
      "metadata": {
        "colab": {
          "base_uri": "https://localhost:8080/"
        },
        "id": "ewERHIhViX7Z",
        "outputId": "a249a2f1-394d-4275-cc5e-83ea20760edf"
      },
      "source": [
        "# Randomize the dataset\n",
        "data_randomized  =  sms_spam.sample(frac=1,  random_state=1) \n",
        "# Calculate index for split\n",
        "training_test_index = round(len(data_randomized) * 0.8)\n",
        "\n",
        "# Split into training and test sets\n",
        "training_set  =   data_randomized[:training_test_index].reset_index(drop=True) \n",
        "test_set = data_randomized[training_test_index:].reset_index(drop=True)\n",
        "\n",
        "print(training_set.shape)\n",
        "print(test_set.shape)"
      ],
      "execution_count": 37,
      "outputs": [
        {
          "output_type": "stream",
          "name": "stdout",
          "text": [
            "(4458, 2)\n",
            "(1114, 2)\n"
          ]
        }
      ]
    },
    {
      "cell_type": "code",
      "metadata": {
        "colab": {
          "base_uri": "https://localhost:8080/"
        },
        "id": "ENRBUs1xjAut",
        "outputId": "d4e504dd-a00f-409b-f427-170668e7aa6c"
      },
      "source": [
        "training_set['Label'].value_counts(normalize=True)"
      ],
      "execution_count": 38,
      "outputs": [
        {
          "output_type": "execute_result",
          "data": {
            "text/plain": [
              "ham     0.86541\n",
              "spam    0.13459\n",
              "Name: Label, dtype: float64"
            ]
          },
          "metadata": {},
          "execution_count": 38
        }
      ]
    },
    {
      "cell_type": "code",
      "metadata": {
        "colab": {
          "base_uri": "https://localhost:8080/"
        },
        "id": "e0U9rbv9kIac",
        "outputId": "f135325c-d180-49fa-a0dd-934922300bb1"
      },
      "source": [
        "test_set['Label'].value_counts(normalize=True)"
      ],
      "execution_count": 39,
      "outputs": [
        {
          "output_type": "execute_result",
          "data": {
            "text/plain": [
              "ham     0.868043\n",
              "spam    0.131957\n",
              "Name: Label, dtype: float64"
            ]
          },
          "metadata": {},
          "execution_count": 39
        }
      ]
    },
    {
      "cell_type": "code",
      "metadata": {
        "colab": {
          "base_uri": "https://localhost:8080/",
          "height": 142
        },
        "id": "x8kDjPirkRLy",
        "outputId": "ee144d54-0dbe-4023-e27e-fe1a677c8337"
      },
      "source": [
        "# Before cleaning\n",
        "training_set.head(3)"
      ],
      "execution_count": 40,
      "outputs": [
        {
          "output_type": "execute_result",
          "data": {
            "text/html": [
              "<div>\n",
              "<style scoped>\n",
              "    .dataframe tbody tr th:only-of-type {\n",
              "        vertical-align: middle;\n",
              "    }\n",
              "\n",
              "    .dataframe tbody tr th {\n",
              "        vertical-align: top;\n",
              "    }\n",
              "\n",
              "    .dataframe thead th {\n",
              "        text-align: right;\n",
              "    }\n",
              "</style>\n",
              "<table border=\"1\" class=\"dataframe\">\n",
              "  <thead>\n",
              "    <tr style=\"text-align: right;\">\n",
              "      <th></th>\n",
              "      <th>Label</th>\n",
              "      <th>SMS</th>\n",
              "    </tr>\n",
              "  </thead>\n",
              "  <tbody>\n",
              "    <tr>\n",
              "      <th>0</th>\n",
              "      <td>ham</td>\n",
              "      <td>Yep, by the pretty sculpture</td>\n",
              "    </tr>\n",
              "    <tr>\n",
              "      <th>1</th>\n",
              "      <td>ham</td>\n",
              "      <td>Yes, princess. Are you going to make me moan?</td>\n",
              "    </tr>\n",
              "    <tr>\n",
              "      <th>2</th>\n",
              "      <td>ham</td>\n",
              "      <td>Welp apparently he retired</td>\n",
              "    </tr>\n",
              "  </tbody>\n",
              "</table>\n",
              "</div>"
            ],
            "text/plain": [
              "  Label                                            SMS\n",
              "0   ham                   Yep, by the pretty sculpture\n",
              "1   ham  Yes, princess. Are you going to make me moan?\n",
              "2   ham                     Welp apparently he retired"
            ]
          },
          "metadata": {},
          "execution_count": 40
        }
      ]
    },
    {
      "cell_type": "code",
      "metadata": {
        "colab": {
          "base_uri": "https://localhost:8080/",
          "height": 142
        },
        "id": "jx8EcVKTkbby",
        "outputId": "cffd3aba-6ebc-4e21-88e1-8090fc173560"
      },
      "source": [
        "# After cleaning\n",
        "training_set['SMS'] = training_set['SMS'].str.replace(\n",
        "'\\W', ' ') # Removes punctuation\n",
        "training_set['SMS']  =    training_set['SMS'].str.lower() \n",
        "training_set.head(3)"
      ],
      "execution_count": 41,
      "outputs": [
        {
          "output_type": "execute_result",
          "data": {
            "text/html": [
              "<div>\n",
              "<style scoped>\n",
              "    .dataframe tbody tr th:only-of-type {\n",
              "        vertical-align: middle;\n",
              "    }\n",
              "\n",
              "    .dataframe tbody tr th {\n",
              "        vertical-align: top;\n",
              "    }\n",
              "\n",
              "    .dataframe thead th {\n",
              "        text-align: right;\n",
              "    }\n",
              "</style>\n",
              "<table border=\"1\" class=\"dataframe\">\n",
              "  <thead>\n",
              "    <tr style=\"text-align: right;\">\n",
              "      <th></th>\n",
              "      <th>Label</th>\n",
              "      <th>SMS</th>\n",
              "    </tr>\n",
              "  </thead>\n",
              "  <tbody>\n",
              "    <tr>\n",
              "      <th>0</th>\n",
              "      <td>ham</td>\n",
              "      <td>yep  by the pretty sculpture</td>\n",
              "    </tr>\n",
              "    <tr>\n",
              "      <th>1</th>\n",
              "      <td>ham</td>\n",
              "      <td>yes  princess  are you going to make me moan</td>\n",
              "    </tr>\n",
              "    <tr>\n",
              "      <th>2</th>\n",
              "      <td>ham</td>\n",
              "      <td>welp apparently he retired</td>\n",
              "    </tr>\n",
              "  </tbody>\n",
              "</table>\n",
              "</div>"
            ],
            "text/plain": [
              "  Label                                            SMS\n",
              "0   ham                   yep  by the pretty sculpture\n",
              "1   ham  yes  princess  are you going to make me moan \n",
              "2   ham                     welp apparently he retired"
            ]
          },
          "metadata": {},
          "execution_count": 41
        }
      ]
    },
    {
      "cell_type": "code",
      "metadata": {
        "colab": {
          "base_uri": "https://localhost:8080/",
          "height": 142
        },
        "id": "hG3vlba4kjaJ",
        "outputId": "f52c8437-2de6-4d0b-a54d-6e4dd2dd7681"
      },
      "source": [
        "\n",
        "training_set['SMS'] = training_set['SMS'].str.split()\n",
        "vocabulary = []\n",
        "for sms in training_set['SMS']:\n",
        "  for word in sms:\n",
        "    vocabulary.append(word)\n",
        "vocabulary = list(set(vocabulary))\n",
        "word_counts_per_sms  =  {'secret':  [2,1,1],'prize':  [2,0,1],'claim':  [1,0,1],'now':  [1,0,1],'coming':  [0,1,0], 'to':  [0,1,0],'my':  [0,1,0],'party':  [0,1,0],'winner':  [0,0,1]}\n",
        "word_counts = pd.DataFrame(word_counts_per_sms)\n",
        "word_counts.head()\n",
        "    "
      ],
      "execution_count": 42,
      "outputs": [
        {
          "output_type": "execute_result",
          "data": {
            "text/html": [
              "<div>\n",
              "<style scoped>\n",
              "    .dataframe tbody tr th:only-of-type {\n",
              "        vertical-align: middle;\n",
              "    }\n",
              "\n",
              "    .dataframe tbody tr th {\n",
              "        vertical-align: top;\n",
              "    }\n",
              "\n",
              "    .dataframe thead th {\n",
              "        text-align: right;\n",
              "    }\n",
              "</style>\n",
              "<table border=\"1\" class=\"dataframe\">\n",
              "  <thead>\n",
              "    <tr style=\"text-align: right;\">\n",
              "      <th></th>\n",
              "      <th>secret</th>\n",
              "      <th>prize</th>\n",
              "      <th>claim</th>\n",
              "      <th>now</th>\n",
              "      <th>coming</th>\n",
              "      <th>to</th>\n",
              "      <th>my</th>\n",
              "      <th>party</th>\n",
              "      <th>winner</th>\n",
              "    </tr>\n",
              "  </thead>\n",
              "  <tbody>\n",
              "    <tr>\n",
              "      <th>0</th>\n",
              "      <td>2</td>\n",
              "      <td>2</td>\n",
              "      <td>1</td>\n",
              "      <td>1</td>\n",
              "      <td>0</td>\n",
              "      <td>0</td>\n",
              "      <td>0</td>\n",
              "      <td>0</td>\n",
              "      <td>0</td>\n",
              "    </tr>\n",
              "    <tr>\n",
              "      <th>1</th>\n",
              "      <td>1</td>\n",
              "      <td>0</td>\n",
              "      <td>0</td>\n",
              "      <td>0</td>\n",
              "      <td>1</td>\n",
              "      <td>1</td>\n",
              "      <td>1</td>\n",
              "      <td>1</td>\n",
              "      <td>0</td>\n",
              "    </tr>\n",
              "    <tr>\n",
              "      <th>2</th>\n",
              "      <td>1</td>\n",
              "      <td>1</td>\n",
              "      <td>1</td>\n",
              "      <td>1</td>\n",
              "      <td>0</td>\n",
              "      <td>0</td>\n",
              "      <td>0</td>\n",
              "      <td>0</td>\n",
              "      <td>1</td>\n",
              "    </tr>\n",
              "  </tbody>\n",
              "</table>\n",
              "</div>"
            ],
            "text/plain": [
              "   secret  prize  claim  now  coming  to  my  party  winner\n",
              "0       2      2      1    1       0   0   0      0       0\n",
              "1       1      0      0    0       1   1   1      1       0\n",
              "2       1      1      1    1       0   0   0      0       1"
            ]
          },
          "metadata": {},
          "execution_count": 42
        }
      ]
    },
    {
      "cell_type": "code",
      "metadata": {
        "colab": {
          "base_uri": "https://localhost:8080/",
          "height": 204
        },
        "id": "M4Oy3QVLqnwq",
        "outputId": "080902b3-c666-4760-d991-f99318c24c50"
      },
      "source": [
        "training_set_clean  =  pd.concat([training_set,  word_counts],  axis=1) \n",
        "training_set_clean.head()"
      ],
      "execution_count": 43,
      "outputs": [
        {
          "output_type": "execute_result",
          "data": {
            "text/html": [
              "<div>\n",
              "<style scoped>\n",
              "    .dataframe tbody tr th:only-of-type {\n",
              "        vertical-align: middle;\n",
              "    }\n",
              "\n",
              "    .dataframe tbody tr th {\n",
              "        vertical-align: top;\n",
              "    }\n",
              "\n",
              "    .dataframe thead th {\n",
              "        text-align: right;\n",
              "    }\n",
              "</style>\n",
              "<table border=\"1\" class=\"dataframe\">\n",
              "  <thead>\n",
              "    <tr style=\"text-align: right;\">\n",
              "      <th></th>\n",
              "      <th>Label</th>\n",
              "      <th>SMS</th>\n",
              "      <th>secret</th>\n",
              "      <th>prize</th>\n",
              "      <th>claim</th>\n",
              "      <th>now</th>\n",
              "      <th>coming</th>\n",
              "      <th>to</th>\n",
              "      <th>my</th>\n",
              "      <th>party</th>\n",
              "      <th>winner</th>\n",
              "    </tr>\n",
              "  </thead>\n",
              "  <tbody>\n",
              "    <tr>\n",
              "      <th>0</th>\n",
              "      <td>ham</td>\n",
              "      <td>[yep, by, the, pretty, sculpture]</td>\n",
              "      <td>2.0</td>\n",
              "      <td>2.0</td>\n",
              "      <td>1.0</td>\n",
              "      <td>1.0</td>\n",
              "      <td>0.0</td>\n",
              "      <td>0.0</td>\n",
              "      <td>0.0</td>\n",
              "      <td>0.0</td>\n",
              "      <td>0.0</td>\n",
              "    </tr>\n",
              "    <tr>\n",
              "      <th>1</th>\n",
              "      <td>ham</td>\n",
              "      <td>[yes, princess, are, you, going, to, make, me,...</td>\n",
              "      <td>1.0</td>\n",
              "      <td>0.0</td>\n",
              "      <td>0.0</td>\n",
              "      <td>0.0</td>\n",
              "      <td>1.0</td>\n",
              "      <td>1.0</td>\n",
              "      <td>1.0</td>\n",
              "      <td>1.0</td>\n",
              "      <td>0.0</td>\n",
              "    </tr>\n",
              "    <tr>\n",
              "      <th>2</th>\n",
              "      <td>ham</td>\n",
              "      <td>[welp, apparently, he, retired]</td>\n",
              "      <td>1.0</td>\n",
              "      <td>1.0</td>\n",
              "      <td>1.0</td>\n",
              "      <td>1.0</td>\n",
              "      <td>0.0</td>\n",
              "      <td>0.0</td>\n",
              "      <td>0.0</td>\n",
              "      <td>0.0</td>\n",
              "      <td>1.0</td>\n",
              "    </tr>\n",
              "    <tr>\n",
              "      <th>3</th>\n",
              "      <td>ham</td>\n",
              "      <td>[havent]</td>\n",
              "      <td>NaN</td>\n",
              "      <td>NaN</td>\n",
              "      <td>NaN</td>\n",
              "      <td>NaN</td>\n",
              "      <td>NaN</td>\n",
              "      <td>NaN</td>\n",
              "      <td>NaN</td>\n",
              "      <td>NaN</td>\n",
              "      <td>NaN</td>\n",
              "    </tr>\n",
              "    <tr>\n",
              "      <th>4</th>\n",
              "      <td>ham</td>\n",
              "      <td>[i, forgot, 2, ask, ü, all, smth, there, s, a,...</td>\n",
              "      <td>NaN</td>\n",
              "      <td>NaN</td>\n",
              "      <td>NaN</td>\n",
              "      <td>NaN</td>\n",
              "      <td>NaN</td>\n",
              "      <td>NaN</td>\n",
              "      <td>NaN</td>\n",
              "      <td>NaN</td>\n",
              "      <td>NaN</td>\n",
              "    </tr>\n",
              "  </tbody>\n",
              "</table>\n",
              "</div>"
            ],
            "text/plain": [
              "  Label                                                SMS  ...  party  winner\n",
              "0   ham                  [yep, by, the, pretty, sculpture]  ...    0.0     0.0\n",
              "1   ham  [yes, princess, are, you, going, to, make, me,...  ...    1.0     0.0\n",
              "2   ham                    [welp, apparently, he, retired]  ...    0.0     1.0\n",
              "3   ham                                           [havent]  ...    NaN     NaN\n",
              "4   ham  [i, forgot, 2, ask, ü, all, smth, there, s, a,...  ...    NaN     NaN\n",
              "\n",
              "[5 rows x 11 columns]"
            ]
          },
          "metadata": {},
          "execution_count": 43
        }
      ]
    },
    {
      "cell_type": "code",
      "metadata": {
        "id": "szEa_j6Fq-CY"
      },
      "source": [
        "# Isolating spam and ham messages first\n",
        "spam_messages  =   training_set_clean[training_set_clean['Label']   ==   'spam']     \n",
        "ham_messages   =    training_set_clean[training_set_clean['Label']    ==    'ham'] \n",
        "#  P(Spam)  and P(Ham)\n",
        "p_spam = len(spam_messages) / len(training_set_clean) \n",
        " p_ham =  len(ham_messages)  / len(training_set_clean) \n",
        "# N_Spam\n",
        " n_words_per_spam_message  =  spam_messages['SMS'].apply(len)  \n",
        "  n_spam = n_words_per_spam_message.sum()\n",
        "\n",
        "# N_Ham\n",
        "n_words_per_ham_message  =   ham_messages['SMS'].apply(len) \n",
        " n_ham = n_words_per_ham_message.sum()\n",
        "\n",
        "# N_Vocabulary\n",
        "n_vocabulary = len(vocabulary)\n",
        " # Laplace smoothing  21 alpha = 1"
      ],
      "execution_count": null,
      "outputs": []
    },
    {
      "cell_type": "code",
      "metadata": {
        "id": "SFTc_BszryTx"
      },
      "source": [
        "# Initiate parameters\n",
        "parameters_spam = {unique_word:0 for unique_word in vocabulary} 3 parameters_ham = {unique_word:0 for unique_word in vocabulary} 4\n",
        "# Calculate parameters\n",
        "for word in vocabulary:"
      ],
      "execution_count": null,
      "outputs": []
    },
    {
      "cell_type": "code",
      "metadata": {
        "id": "vmhkDHuqr0Sh"
      },
      "source": [
        "n_word_given_spam = spam_messages[word].sum() # spam_messages already defined\n",
        "p_word_given_spam = (n_word_given_spam + alpha) / (n_spam + alpha*n_vocabulary) parameters_spam[word] = p_word_given_spam"
      ],
      "execution_count": null,
      "outputs": []
    },
    {
      "cell_type": "code",
      "metadata": {
        "id": "CiNyBySer44X"
      },
      "source": [
        "n_word_given_ham = ham_messages[word].sum() # ham_messages already defined\n",
        "p_word_given_ham = (n_word_given_ham + alpha) / (n_ham + alpha*n_vocabulary) parameters_ham[word] = p_word_given_ham"
      ],
      "execution_count": null,
      "outputs": []
    },
    {
      "cell_type": "code",
      "metadata": {
        "id": "skFQ8bL5r-Zg"
      },
      "source": [
        "1 import re\n",
        "2\n",
        "3 def classify(message):\n",
        "\n",
        "message = re.sub('\\W', ' ', message)\n",
        "message = message.lower().split()\n",
        "\n",
        "p_spam_given_message = p_spam p_ham_given_message = p_ham\n",
        "\n",
        "for word in message:\n",
        "if word in parameters_spam:\n",
        "p_spam_given_message *= parameters_spam[word]\n",
        "\n",
        "if word in parameters_ham:\n",
        "p_ham_given_message *= parameters_ham[word]\n",
        "\n",
        "print('P(Spam|message):', p_spam_given_message) print('P(Ham|message):', p_ham_given_message)\n",
        "\n",
        "if p_ham_given_message > p_spam_given_message: print('Label: Ham')\n",
        "elif p_ham_given_message < p_spam_given_message: print('Label: Spam')\n",
        "else:\n",
        "print('Equal proabilities, have a human classify this!')"
      ],
      "execution_count": null,
      "outputs": []
    },
    {
      "cell_type": "code",
      "metadata": {
        "id": "aouOhZOYsur3"
      },
      "source": [
        "\n",
        "\n",
        "(5572, 2)\n",
        "\n",
        "\n",
        "(4458, 2)\n",
        "(1114, 2)\n",
        "\n",
        "\n",
        "\n",
        "\n",
        "\n",
        "\n",
        "\n",
        "\n",
        "\n",
        "\n",
        "Label\tSMS\tbribe\talfie\t09064017305\tyou\tsrt\t505060\tstep\tsurvey\tvalue\n",
        "\n",
        "0\t\n",
        "ham\t[yep, by, the, pretty,\t\n",
        "0\t\n",
        "0\t\n",
        "0\t\n",
        "0\t\n",
        "0\t\n",
        "0\t\n",
        "0\t\n",
        "0\t\n",
        "0\n",
        "\t\tsculpture]\t\t\t\t\t\t\t\t\t\n",
        "\n",
        "\n",
        "1\t\n",
        "\n",
        "ham\t[yes, princess, are, you, going, to,\t\n",
        "\n",
        "0\t\n",
        "\n",
        "0\t\n",
        "\n",
        "0\t\n",
        "\n",
        "1\t\n",
        "\n",
        "0\t\n",
        "\n",
        "0\t\n",
        "\n",
        "0\t\n",
        "\n",
        "0\t\n",
        "\n",
        "0\n",
        "\t\tmake, me,...\t\t\t\t\t\t\t\t\t\n",
        "\n",
        "2\t\n",
        "ham\t[welp, apparently,\t\n",
        "0\t\n",
        "0\t\n",
        "0\t\n",
        "0\t\n",
        "0\t\n",
        "0\t\n",
        "0\t\n",
        "0\t\n",
        "0\n",
        "\n",
        "Calculating Constants First\n",
        "\n",
        "\n",
        "\n",
        "Classifying A New Message\n",
        "\n",
        "\n",
        "P(Spam|message): 1.3481290211300841e-25 P(Ham|message): 1.9368049028589875e-27\n",
        "Label: Spam\n",
        "\n",
        "P(Spam|message): 2.4372375665888117e-25 P(Ham|message): 3.687530435009238e-21\n",
        "Label: Ham\n",
        "\n",
        "P(Spam|message): 2.4372375665888117e-25 P(Ham|message): 3.687530435009238e-21\n",
        "Label: Ham\n",
        "\n",
        "\n",
        "Measuring the Spam Filter's Accuracy\n",
        "\n",
        "\n",
        "\n",
        "\n",
        "\n",
        "\n",
        "Label\tSMS\tpredicted\n",
        "0\tham\tLater i guess. I needa do mcat study too.\tham\n",
        "1\tham\tBut i haf enuff space got like 4 mb...\tham\n",
        "2\tspam\tHad your mobile 10 mths? Update to latest Oran...\tspam\n",
        "3\tham\tAll sounds good. Fingers . Makes it difﬁcult ...\tham\n",
        "4\tham\tAll done, all handed in. Don't know if mega sh...\tham\n",
        "\n",
        "\n",
        "\n",
        "\n",
        "\n",
        "\n",
        "\n",
        "Correct: 1100\n",
        "Incorrect:  14\n",
        "Accuracy: 0.9874326750448833\n",
        "\n",
        "\n",
        "\n",
        "\n",
        "\n",
        "\n",
        "\n",
        "\n",
        "\n",
        "\n",
        "\n",
        "\n",
        "\n",
        "\n",
        "\n",
        "\n",
        "\n",
        "\n",
        "\n",
        "\n",
        "\n",
        "\n",
        "\n",
        "\n",
        "\n",
        "\n",
        "\n",
        "\n",
        "  0s\tcompleted at 11:53 AMsecret\tprize\tclaim\tnow\tcoming\tto\tmy\tparty\twinner\n",
        "0\t2\t2\t1\t1\t0\t0\t0\t0\t0\n",
        "1\t1\t0\t0\t0\t1\t1\t1\t1\t0\n",
        "2\t1\t1\t1\t1\t0\t0\t0\t0\t1\n",
        "Label\tSMS\tbribe\talfie\t09064017305\tyou\tsrt\t505060\tstep\tsurvey\tvalue\n",
        "\n",
        "0\t\n",
        "ham\t[yep, by, the, pretty,\t\n",
        "0\t\n",
        "0\t\n",
        "0\t\n",
        "0\t\n",
        "0\t\n",
        "0\t\n",
        "0\t\n",
        "0\t\n",
        "0\n",
        "\t\tsculpture]\t\t\t\t\t\t\t\t\t\n",
        "\n",
        "\n",
        "1\t\n",
        "\n",
        "ham\t[yes, princess, are, you, going, to,\t\n",
        "\n",
        "0\t\n",
        "\n",
        "0\t\n",
        "\n",
        "0\t\n",
        "\n",
        "1\t\n",
        "\n",
        "0\t\n",
        "\n",
        "0\t\n",
        "\n",
        "0\t\n",
        "\n",
        "0\t\n",
        "\n",
        "0\n",
        "\t\tmake, me,...\t\t\t\t\t\t\t\t\t\n",
        "\n",
        "2\t\n",
        "ham\t[welp, apparently,\t\n",
        "0\t\n",
        "0\t\n",
        "0\t\n",
        "0\t\n",
        "0\t\n",
        "0\t\n",
        "0\t\n",
        "0\t\n",
        "0\n",
        "Label\tSMS\tpredicted\n",
        "0\tham\tLater i guess. I needa do mcat study too.\tham\n",
        "1\tham\tBut i haf enuff space got like 4 mb...\tham\n",
        "2\tspam\tHad your mobile 10 mths? Update to latest Oran...\tspam\n",
        "3\tham\tAll sounds good. Fingers . Makes it difﬁcult ...\tham\n",
        "4\tham\tAll done, all handed in. Don't know if mega sh...\tham\n"
      ],
      "execution_count": null,
      "outputs": []
    }
  ]
}